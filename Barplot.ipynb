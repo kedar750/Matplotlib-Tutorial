{
 "cells": [
  {
   "cell_type": "markdown",
   "id": "63ec6e3b-53c2-43c0-94f7-461497fc1064",
   "metadata": {},
   "source": [
    "# Introduction of BarPlot"
   ]
  },
  {
   "cell_type": "code",
   "execution_count": 1,
   "id": "33e211bf-dffe-4140-b584-e642cebf5d57",
   "metadata": {},
   "outputs": [],
   "source": [
    "import pandas as pd\n",
    "import numpy as np\n",
    "import matplotlib.pyplot as plt"
   ]
  },
  {
   "cell_type": "code",
   "execution_count": 4,
   "id": "14bb7dab-13c1-47bf-8920-e8c025aad7d1",
   "metadata": {},
   "outputs": [],
   "source": [
    "ages_x = [25,26,27,28,29,30,31,32,33,34,35]\n",
    "\n",
    "age_index = np.arange(len(ages_x))\n",
    "\n",
    "dev_y = [2343,3454,4456,5565,6776,6777,7676,7878,8787,8989,9989]\n",
    "\n",
    "py_dev_y = [2000,3232,3300,3700,4200,4700,5100,5600,6340,6970,7684]"
   ]
  },
  {
   "cell_type": "code",
   "execution_count": 5,
   "id": "f3edfd01-a5fd-45ef-a132-3584573ae19d",
   "metadata": {},
   "outputs": [
    {
     "data": {
      "text/plain": [
       "array([ 0,  1,  2,  3,  4,  5,  6,  7,  8,  9, 10])"
      ]
     },
     "execution_count": 5,
     "metadata": {},
     "output_type": "execute_result"
    }
   ],
   "source": [
    "age_index"
   ]
  },
  {
   "cell_type": "markdown",
   "id": "fa894dd6-19ac-4a00-be6b-71290d3d59ff",
   "metadata": {},
   "source": [
    "- Previously we saw about line plot simply by using Plot method, now for plotting bar we can use \"plt.bar\".\n",
    "- Following Graph shows for single bar graph."
   ]
  },
  {
   "cell_type": "code",
   "execution_count": 3,
   "id": "c361167d-c8f4-48bc-80c6-f0cf23e4ddc9",
   "metadata": {},
   "outputs": [
    {
     "data": {
      "text/plain": [
       "<matplotlib.legend.Legend at 0x204c29917c0>"
      ]
     },
     "execution_count": 3,
     "metadata": {},
     "output_type": "execute_result"
    },
    {
     "data": {
      "image/png": "[encoded data removed]",
      "text/plain": [
       "<Figure size 432x288 with 1 Axes>"
      ]
     },
     "metadata": {
      "needs_background": "light"
     },
     "output_type": "display_data"
    }
   ],
   "source": [
    "plt.bar(ages_x,dev_y,color = 'g') # Help  us to Plot line\n",
    "#plt.bar(ages_x,py_dev_y) #Plot Second Line on the same graph\n",
    "\n",
    "\n",
    "plt.xlabel('Age')  # Mention label to x direction\n",
    "plt.ylabel('Salary') #Mention Label to y direction\n",
    "plt.title('Age per Salary') # Mention title to the graph\n",
    "plt.legend(['Salary_1','Salary_2']) #Mention Names for particular line"
   ]
  },
  {
   "cell_type": "markdown",
   "id": "36f1b3e1-d1ad-45fc-9bb0-f27e766353b8",
   "metadata": {},
   "source": [
    "- Now for plotting another points we can not use same method that we used earlier, why?-because both the data points will overlap becasue of that we have to use following code to plot multi bar in one graph only.\n",
    "- For plotting following graph we have to first create array of the x values and that will consider of range from(0-1). also we have to fixed size of bars for all bars using (width = 'size that you want to mention in int or float').\n",
    "- In the following graph I used x value as {age_index = np.arange(len(ages_x))}."
   ]
  },
  {
   "cell_type": "code",
   "execution_count": 8,
   "id": "b302f548-710e-4e49-8237-4d8228ff81e1",
   "metadata": {},
   "outputs": [
    {
     "data": {
      "text/plain": [
       "<matplotlib.legend.Legend at 0x204c3450f10>"
      ]
     },
     "execution_count": 8,
     "metadata": {},
     "output_type": "execute_result"
    },
    {
     "data": {
      "image/png": "[encoded data removed]",
      "text/plain": [
       "<Figure size 432x288 with 1 Axes>"
      ]
     },
     "metadata": {
      "needs_background": "light"
     },
     "output_type": "display_data"
    }
   ],
   "source": [
    "width = 0.35\n",
    "\n",
    "plt.bar(age_index - width,dev_y,width = width,color = 'k') # Help  us to Plot line\n",
    "plt.bar(age_index,py_dev_y,width = width) #Plot Second Line on the same graph\n",
    "\n",
    "\n",
    "plt.xlabel('Age')  # Mention label to x direction\n",
    "plt.ylabel('Salary') #Mention Label to y direction\n",
    "plt.title('Age per Salary') # Mention title to the graph\n",
    "plt.legend(['Salary_1','Salary_2']) #Mention Names for particular line"
   ]
  },
  {
   "cell_type": "markdown",
   "id": "38b5c4ed-94d1-41fe-83f4-e972ad6e5834",
   "metadata": {},
   "source": [
    "- Now, you can see above graph does not showing x values properly, to make it correct we are going to use \"xtick\".\n",
    "- Following graph shows you how you can put the x values below each graph."
   ]
  },
  {
   "cell_type": "code",
   "execution_count": 10,
   "id": "164bd853-fb0a-4772-9cd2-ea1cc227783a",
   "metadata": {},
   "outputs": [
    {
     "data": {
      "text/plain": [
       "([<matplotlib.axis.XTick at 0x204c352b760>,\n",
       "  <matplotlib.axis.XTick at 0x204c352bc70>,\n",
       "  <matplotlib.axis.XTick at 0x204c354b9d0>,\n",
       "  <matplotlib.axis.XTick at 0x204c360ffd0>,\n",
       "  <matplotlib.axis.XTick at 0x204c361c520>,\n",
       "  <matplotlib.axis.XTick at 0x204c361c130>,\n",
       "  <matplotlib.axis.XTick at 0x204c361cbe0>,\n",
       "  <matplotlib.axis.XTick at 0x204c3621130>,\n",
       "  <matplotlib.axis.XTick at 0x204c3621640>,\n",
       "  <matplotlib.axis.XTick at 0x204c3621b50>,\n",
       "  <matplotlib.axis.XTick at 0x204c36260a0>],\n",
       " [Text(0, 0, '25'),\n",
       "  Text(1, 0, '26'),\n",
       "  Text(2, 0, '27'),\n",
       "  Text(3, 0, '28'),\n",
       "  Text(4, 0, '29'),\n",
       "  Text(5, 0, '30'),\n",
       "  Text(6, 0, '31'),\n",
       "  Text(7, 0, '32'),\n",
       "  Text(8, 0, '33'),\n",
       "  Text(9, 0, '34'),\n",
       "  Text(10, 0, '35')])"
      ]
     },
     "execution_count": 10,
     "metadata": {},
     "output_type": "execute_result"
    },
    {
     "data": {
      "image/png": "[encoded data removed]",
      "text/plain": [
       "<Figure size 432x288 with 1 Axes>"
      ]
     },
     "metadata": {
      "needs_background": "light"
     },
     "output_type": "display_data"
    }
   ],
   "source": [
    "width = 0.35\n",
    "\n",
    "plt.bar(age_index - width,dev_y,width = width,color = 'k') # Help  us to Plot line\n",
    "plt.bar(age_index,py_dev_y,width = width) #Plot Second Line on the same graph\n",
    "\n",
    "\n",
    "plt.xlabel('Age')  # Mention label to x direction\n",
    "plt.ylabel('Salary') #Mention Label to y direction\n",
    "plt.title('Age per Salary') # Mention title to the graph\n",
    "plt.legend(['Salary_1','Salary_2']) #Mention Names for particular line\n",
    "\n",
    "plt.xticks(ticks = age_index , labels = ages_x) # here we mention the label name as x column and while considering labels pass values that we convert into range of size of x value."
   ]
  },
  {
   "cell_type": "markdown",
   "id": "7cca4715-5521-4e90-a133-ba168d17533f",
   "metadata": {},
   "source": [
    "# Vertical barplot and Horizantal barplot\n",
    "- now we will see different methods to plot graph.\n",
    "- for plotting graph horizantally instead of \"bar\" use \"barh\". this will help you to plot graph horizantally.\n",
    "- for showing these graph lets upload csv data."
   ]
  },
  {
   "cell_type": "code",
   "execution_count": 12,
   "id": "e4b24e17-b29c-46ec-ad76-b50e9c70fa4b",
   "metadata": {},
   "outputs": [
    {
     "data": {
      "text/html": [
       "<div>\n",
       "<style scoped>\n",
       "    .dataframe tbody tr th:only-of-type {\n",
       "        vertical-align: middle;\n",
       "    }\n",
       "\n",
       "    .dataframe tbody tr th {\n",
       "        vertical-align: top;\n",
       "    }\n",
       "\n",
       "    .dataframe thead th {\n",
       "        text-align: right;\n",
       "    }\n",
       "</style>\n",
       "<table border=\"1\" class=\"dataframe\">\n",
       "  <thead>\n",
       "    <tr style=\"text-align: right;\">\n",
       "      <th></th>\n",
       "      <th>ID</th>\n",
       "      <th>Store_id</th>\n",
       "      <th>Store_Type</th>\n",
       "      <th>Location_Type</th>\n",
       "      <th>Region_Code</th>\n",
       "      <th>Date</th>\n",
       "      <th>Holiday</th>\n",
       "      <th>Discount</th>\n",
       "      <th>#Order</th>\n",
       "      <th>Sales</th>\n",
       "    </tr>\n",
       "  </thead>\n",
       "  <tbody>\n",
       "    <tr>\n",
       "      <th>0</th>\n",
       "      <td>T1000001</td>\n",
       "      <td>1</td>\n",
       "      <td>S1</td>\n",
       "      <td>L3</td>\n",
       "      <td>R1</td>\n",
       "      <td>2018-01-01</td>\n",
       "      <td>1</td>\n",
       "      <td>Yes</td>\n",
       "      <td>9</td>\n",
       "      <td>7011.84</td>\n",
       "    </tr>\n",
       "    <tr>\n",
       "      <th>1</th>\n",
       "      <td>T1000002</td>\n",
       "      <td>253</td>\n",
       "      <td>S4</td>\n",
       "      <td>L2</td>\n",
       "      <td>R1</td>\n",
       "      <td>2018-01-01</td>\n",
       "      <td>1</td>\n",
       "      <td>Yes</td>\n",
       "      <td>60</td>\n",
       "      <td>51789.12</td>\n",
       "    </tr>\n",
       "    <tr>\n",
       "      <th>2</th>\n",
       "      <td>T1000003</td>\n",
       "      <td>252</td>\n",
       "      <td>S3</td>\n",
       "      <td>L2</td>\n",
       "      <td>R1</td>\n",
       "      <td>2018-01-01</td>\n",
       "      <td>1</td>\n",
       "      <td>Yes</td>\n",
       "      <td>42</td>\n",
       "      <td>36868.20</td>\n",
       "    </tr>\n",
       "    <tr>\n",
       "      <th>3</th>\n",
       "      <td>T1000004</td>\n",
       "      <td>251</td>\n",
       "      <td>S2</td>\n",
       "      <td>L3</td>\n",
       "      <td>R1</td>\n",
       "      <td>2018-01-01</td>\n",
       "      <td>1</td>\n",
       "      <td>Yes</td>\n",
       "      <td>23</td>\n",
       "      <td>19715.16</td>\n",
       "    </tr>\n",
       "    <tr>\n",
       "      <th>4</th>\n",
       "      <td>T1000005</td>\n",
       "      <td>250</td>\n",
       "      <td>S2</td>\n",
       "      <td>L3</td>\n",
       "      <td>R4</td>\n",
       "      <td>2018-01-01</td>\n",
       "      <td>1</td>\n",
       "      <td>Yes</td>\n",
       "      <td>62</td>\n",
       "      <td>45614.52</td>\n",
       "    </tr>\n",
       "  </tbody>\n",
       "</table>\n",
       "</div>"
      ],
      "text/plain": [
       "         ID  Store_id Store_Type Location_Type Region_Code        Date  \\\n",
       "0  T1000001         1         S1            L3          R1  2018-01-01   \n",
       "1  T1000002       253         S4            L2          R1  2018-01-01   \n",
       "2  T1000003       252         S3            L2          R1  2018-01-01   \n",
       "3  T1000004       251         S2            L3          R1  2018-01-01   \n",
       "4  T1000005       250         S2            L3          R4  2018-01-01   \n",
       "\n",
       "   Holiday Discount  #Order     Sales  \n",
       "0        1      Yes       9   7011.84  \n",
       "1        1      Yes      60  51789.12  \n",
       "2        1      Yes      42  36868.20  \n",
       "3        1      Yes      23  19715.16  \n",
       "4        1      Yes      62  45614.52  "
      ]
     },
     "execution_count": 12,
     "metadata": {},
     "output_type": "execute_result"
    }
   ],
   "source": [
    "data = pd.read_csv(\"TRAIN (1).csv\")\n",
    "data.head()"
   ]
  },
  {
   "cell_type": "code",
   "execution_count": 26,
   "id": "8764a6c5-6954-4a85-9d9f-f3c8d6b24025",
   "metadata": {},
   "outputs": [
    {
     "data": {
      "text/html": [
       "<div>\n",
       "<style scoped>\n",
       "    .dataframe tbody tr th:only-of-type {\n",
       "        vertical-align: middle;\n",
       "    }\n",
       "\n",
       "    .dataframe tbody tr th {\n",
       "        vertical-align: top;\n",
       "    }\n",
       "\n",
       "    .dataframe thead th {\n",
       "        text-align: right;\n",
       "    }\n",
       "</style>\n",
       "<table border=\"1\" class=\"dataframe\">\n",
       "  <thead>\n",
       "    <tr style=\"text-align: right;\">\n",
       "      <th></th>\n",
       "      <th>index</th>\n",
       "      <th>Store_Type</th>\n",
       "    </tr>\n",
       "  </thead>\n",
       "  <tbody>\n",
       "    <tr>\n",
       "      <th>0</th>\n",
       "      <td>S1</td>\n",
       "      <td>88752</td>\n",
       "    </tr>\n",
       "    <tr>\n",
       "      <th>1</th>\n",
       "      <td>S4</td>\n",
       "      <td>45924</td>\n",
       "    </tr>\n",
       "    <tr>\n",
       "      <th>2</th>\n",
       "      <td>S2</td>\n",
       "      <td>28896</td>\n",
       "    </tr>\n",
       "    <tr>\n",
       "      <th>3</th>\n",
       "      <td>S3</td>\n",
       "      <td>24768</td>\n",
       "    </tr>\n",
       "  </tbody>\n",
       "</table>\n",
       "</div>"
      ],
      "text/plain": [
       "  index  Store_Type\n",
       "0    S1       88752\n",
       "1    S4       45924\n",
       "2    S2       28896\n",
       "3    S3       24768"
      ]
     },
     "execution_count": 26,
     "metadata": {},
     "output_type": "execute_result"
    }
   ],
   "source": [
    "count_store = data.Store_Type.value_counts().sort_values(ascending = False).reset_index()\n",
    "count_store"
   ]
  },
  {
   "cell_type": "markdown",
   "id": "292f1987-8343-43f2-a268-a545b94ce087",
   "metadata": {},
   "source": [
    "-"
   ]
  },
  {
   "cell_type": "code",
   "execution_count": 27,
   "id": "8ced7138-2be8-43c3-b280-8aa607f5175b",
   "metadata": {},
   "outputs": [
    {
     "data": {
      "text/plain": [
       "Text(0.5, 1.0, 'Count of store type of all store')"
      ]
     },
     "execution_count": 27,
     "metadata": {},
     "output_type": "execute_result"
    },
    {
     "data": {
      "image/png": "[encoded data removed]",
      "text/plain": [
       "<Figure size 432x288 with 1 Axes>"
      ]
     },
     "metadata": {
      "needs_background": "light"
     },
     "output_type": "display_data"
    }
   ],
   "source": [
    "plt.bar(count_store['index'],count_store['Store_Type'])\n",
    "\n",
    "plt.xlabel('Store Type')\n",
    "plt.ylabel('Count')\n",
    "plt.title('Count of store type of all store')\n"
   ]
  },
  {
   "cell_type": "code",
   "execution_count": 28,
   "id": "94ead82f-1e8a-412f-9826-73dacec0a5d4",
   "metadata": {},
   "outputs": [
    {
     "data": {
      "text/plain": [
       "Text(0.5, 1.0, 'Count of store type of all store')"
      ]
     },
     "execution_count": 28,
     "metadata": {},
     "output_type": "execute_result"
    },
    {
     "data": {
      "image/png": "[encoded data removed]",
      "text/plain": [
       "<Figure size 432x288 with 1 Axes>"
      ]
     },
     "metadata": {
      "needs_background": "light"
     },
     "output_type": "display_data"
    }
   ],
   "source": [
    "plt.barh(count_store['index'],count_store['Store_Type'])\n",
    "\n",
    "plt.xlabel('Store Type')\n",
    "plt.ylabel('Count')\n",
    "plt.title('Count of store type of all store')"
   ]
  },
  {
   "cell_type": "code",
   "execution_count": null,
   "id": "5c544344-b4d3-4e3c-b3c9-47e0b10f0d49",
   "metadata": {},
   "outputs": [],
   "source": []
  }
 ],
 "metadata": {
  "kernelspec": {
   "display_name": "Python 3",
   "language": "python",
   "name": "python3"
  },
  "language_info": {
   "codemirror_mode": {
    "name": "ipython",
    "version": 3
   },
   "file_extension": ".py",
   "mimetype": "text/x-python",
   "name": "python",
   "nbconvert_exporter": "python",
   "pygments_lexer": "ipython3",
   "version": "3.8.8"
  }
 },
 "nbformat": 4,
 "nbformat_minor": 5
}
