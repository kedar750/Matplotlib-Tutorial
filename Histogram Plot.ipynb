{
 "cells": [
  {
   "cell_type": "markdown",
   "id": "fea49d1f-d43b-4f0d-8406-cbeca162039c",
   "metadata": {},
   "source": [
    "# Histogram Plot"
   ]
  },
  {
   "cell_type": "code",
   "execution_count": 1,
   "id": "46317e29-e22c-4076-9a44-298613cd3d57",
   "metadata": {},
   "outputs": [],
   "source": [
    "import pandas as pd #Import pandas library\n",
    "import numpy as np  #Import numpy library\n",
    "import matplotlib.pyplot as plt  #Import Matplotlib library"
   ]
  },
  {
   "cell_type": "code",
   "execution_count": 2,
   "id": "05c8f179-0453-411d-9bbb-b5b9f22cbca8",
   "metadata": {},
   "outputs": [
    {
     "data": {
      "text/html": [
       "<div>\n",
       "<style scoped>\n",
       "    .dataframe tbody tr th:only-of-type {\n",
       "        vertical-align: middle;\n",
       "    }\n",
       "\n",
       "    .dataframe tbody tr th {\n",
       "        vertical-align: top;\n",
       "    }\n",
       "\n",
       "    .dataframe thead th {\n",
       "        text-align: right;\n",
       "    }\n",
       "</style>\n",
       "<table border=\"1\" class=\"dataframe\">\n",
       "  <thead>\n",
       "    <tr style=\"text-align: right;\">\n",
       "      <th></th>\n",
       "      <th>ID</th>\n",
       "      <th>Store_id</th>\n",
       "      <th>Store_Type</th>\n",
       "      <th>Location_Type</th>\n",
       "      <th>Region_Code</th>\n",
       "      <th>Date</th>\n",
       "      <th>Holiday</th>\n",
       "      <th>Discount</th>\n",
       "      <th>#Order</th>\n",
       "      <th>Sales</th>\n",
       "    </tr>\n",
       "  </thead>\n",
       "  <tbody>\n",
       "    <tr>\n",
       "      <th>0</th>\n",
       "      <td>T1000001</td>\n",
       "      <td>1</td>\n",
       "      <td>S1</td>\n",
       "      <td>L3</td>\n",
       "      <td>R1</td>\n",
       "      <td>2018-01-01</td>\n",
       "      <td>1</td>\n",
       "      <td>Yes</td>\n",
       "      <td>9</td>\n",
       "      <td>7011.84</td>\n",
       "    </tr>\n",
       "    <tr>\n",
       "      <th>1</th>\n",
       "      <td>T1000002</td>\n",
       "      <td>253</td>\n",
       "      <td>S4</td>\n",
       "      <td>L2</td>\n",
       "      <td>R1</td>\n",
       "      <td>2018-01-01</td>\n",
       "      <td>1</td>\n",
       "      <td>Yes</td>\n",
       "      <td>60</td>\n",
       "      <td>51789.12</td>\n",
       "    </tr>\n",
       "    <tr>\n",
       "      <th>2</th>\n",
       "      <td>T1000003</td>\n",
       "      <td>252</td>\n",
       "      <td>S3</td>\n",
       "      <td>L2</td>\n",
       "      <td>R1</td>\n",
       "      <td>2018-01-01</td>\n",
       "      <td>1</td>\n",
       "      <td>Yes</td>\n",
       "      <td>42</td>\n",
       "      <td>36868.20</td>\n",
       "    </tr>\n",
       "    <tr>\n",
       "      <th>3</th>\n",
       "      <td>T1000004</td>\n",
       "      <td>251</td>\n",
       "      <td>S2</td>\n",
       "      <td>L3</td>\n",
       "      <td>R1</td>\n",
       "      <td>2018-01-01</td>\n",
       "      <td>1</td>\n",
       "      <td>Yes</td>\n",
       "      <td>23</td>\n",
       "      <td>19715.16</td>\n",
       "    </tr>\n",
       "    <tr>\n",
       "      <th>4</th>\n",
       "      <td>T1000005</td>\n",
       "      <td>250</td>\n",
       "      <td>S2</td>\n",
       "      <td>L3</td>\n",
       "      <td>R4</td>\n",
       "      <td>2018-01-01</td>\n",
       "      <td>1</td>\n",
       "      <td>Yes</td>\n",
       "      <td>62</td>\n",
       "      <td>45614.52</td>\n",
       "    </tr>\n",
       "  </tbody>\n",
       "</table>\n",
       "</div>"
      ],
      "text/plain": [
       "         ID  Store_id Store_Type Location_Type Region_Code        Date  \\\n",
       "0  T1000001         1         S1            L3          R1  2018-01-01   \n",
       "1  T1000002       253         S4            L2          R1  2018-01-01   \n",
       "2  T1000003       252         S3            L2          R1  2018-01-01   \n",
       "3  T1000004       251         S2            L3          R1  2018-01-01   \n",
       "4  T1000005       250         S2            L3          R4  2018-01-01   \n",
       "\n",
       "   Holiday Discount  #Order     Sales  \n",
       "0        1      Yes       9   7011.84  \n",
       "1        1      Yes      60  51789.12  \n",
       "2        1      Yes      42  36868.20  \n",
       "3        1      Yes      23  19715.16  \n",
       "4        1      Yes      62  45614.52  "
      ]
     },
     "execution_count": 2,
     "metadata": {},
     "output_type": "execute_result"
    }
   ],
   "source": [
    "data = pd.read_csv(\"TRAIN (1).csv\")  #Import CSV format data.\n",
    "data.head()"
   ]
  },
  {
   "cell_type": "markdown",
   "id": "ab9738fa-9177-41b2-b253-84c09cbd6bb0",
   "metadata": {},
   "source": [
    "- Histogram helps us to find count in particular class like in between (0-20) class how much is the count present.\n",
    "- Following graph will show us particualr bin size of 20 that will help us to plot graph."
   ]
  },
  {
   "cell_type": "code",
   "execution_count": 4,
   "id": "d5150d45-1f7f-485c-84c1-ba55624a7509",
   "metadata": {},
   "outputs": [
    {
     "data": {
      "text/plain": [
       "(array([2.8890e+03, 2.0907e+04, 6.0835e+04, 5.2171e+04, 2.6404e+04,\n",
       "        1.3121e+04, 6.3960e+03, 2.9530e+03, 1.3870e+03, 6.5700e+02,\n",
       "        3.3400e+02, 1.5500e+02, 6.8000e+01, 2.4000e+01, 2.3000e+01]),\n",
       " array([  0,  20,  40,  60,  80, 100, 120, 140, 160, 180, 200, 220, 240,\n",
       "        260, 280, 300]),\n",
       " <BarContainer object of 15 artists>)"
      ]
     },
     "execution_count": 4,
     "metadata": {},
     "output_type": "execute_result"
    },
    {
     "data": {
      "image/png": "[encoded data removed]",
      "text/plain": [
       "<Figure size 432x288 with 1 Axes>"
      ]
     },
     "metadata": {},
     "output_type": "display_data"
    }
   ],
   "source": [
    "orders = data['#Order']\n",
    "plt.style.use('fivethirtyeight')\n",
    "bins = [0,20,40,60,80,100,120,140,160,180,200,220,240,260,280,300]\n",
    "\n",
    "plt.hist(orders,bins = bins)"
   ]
  },
  {
   "cell_type": "markdown",
   "id": "7e7918ec-547d-4945-b9cd-08721839085a",
   "metadata": {},
   "source": [
    "- As you can see above graph in which, we can not identify bins for that, lets add another parameter in it."
   ]
  },
  {
   "cell_type": "code",
   "execution_count": 5,
   "id": "a8980511-1c82-4484-a6e9-50377384af29",
   "metadata": {},
   "outputs": [
    {
     "data": {
      "text/plain": [
       "(array([2.8890e+03, 2.0907e+04, 6.0835e+04, 5.2171e+04, 2.6404e+04,\n",
       "        1.3121e+04, 6.3960e+03, 2.9530e+03, 1.3870e+03, 6.5700e+02,\n",
       "        3.3400e+02, 1.5500e+02, 6.8000e+01, 2.4000e+01, 2.3000e+01]),\n",
       " array([  0,  20,  40,  60,  80, 100, 120, 140, 160, 180, 200, 220, 240,\n",
       "        260, 280, 300]),\n",
       " <BarContainer object of 15 artists>)"
      ]
     },
     "execution_count": 5,
     "metadata": {},
     "output_type": "execute_result"
    },
    {
     "data": {
      "image/png": "[encoded data removed]",
      "text/plain": [
       "<Figure size 432x288 with 1 Axes>"
      ]
     },
     "metadata": {},
     "output_type": "display_data"
    }
   ],
   "source": [
    "orders = data['#Order']\n",
    "plt.style.use('fivethirtyeight')\n",
    "bins = [0,20,40,60,80,100,120,140,160,180,200,220,240,260,280,300]\n",
    "\n",
    "plt.hist(orders,bins = bins,edgecolor = 'black')"
   ]
  },
  {
   "cell_type": "markdown",
   "id": "e8a2fde2-26d1-4260-8a23-2834622b8144",
   "metadata": {},
   "source": [
    "- Histogram is having different type of histtype lets see one of them."
   ]
  },
  {
   "cell_type": "code",
   "execution_count": 11,
   "id": "8104bbcb-42f5-43f0-9402-e07cf1b1df54",
   "metadata": {},
   "outputs": [
    {
     "data": {
      "text/plain": [
       "(array([2.8890e+03, 2.0907e+04, 6.0835e+04, 5.2171e+04, 2.6404e+04,\n",
       "        1.3121e+04, 6.3960e+03, 2.9530e+03, 1.3870e+03, 6.5700e+02,\n",
       "        3.3400e+02, 1.5500e+02, 6.8000e+01, 2.4000e+01, 2.3000e+01]),\n",
       " array([  0,  20,  40,  60,  80, 100, 120, 140, 160, 180, 200, 220, 240,\n",
       "        260, 280, 300]),\n",
       " [<matplotlib.patches.Polygon at 0x13d36cd8a60>])"
      ]
     },
     "execution_count": 11,
     "metadata": {},
     "output_type": "execute_result"
    },
    {
     "data": {
      "image/png": "[encoded data removed]",
      "text/plain": [
       "<Figure size 432x288 with 1 Axes>"
      ]
     },
     "metadata": {},
     "output_type": "display_data"
    }
   ],
   "source": [
    "orders = data['#Order']\n",
    "plt.style.use('fivethirtyeight')\n",
    "bins = [0,20,40,60,80,100,120,140,160,180,200,220,240,260,280,300]\n",
    "\n",
    "plt.hist(orders,bins = bins,edgecolor = 'black',histtype = 'step')"
   ]
  },
  {
   "cell_type": "markdown",
   "id": "a7057f41-789e-4e0e-b2a3-7475bd765fa8",
   "metadata": {},
   "source": [
    "- When I see count of bins I am not getting whether at the end how much is the count, for evaluate lets use log function that is present in it."
   ]
  },
  {
   "cell_type": "code",
   "execution_count": 12,
   "id": "6fa1edc6-0a98-4fed-9305-0be5e4c94c76",
   "metadata": {},
   "outputs": [
    {
     "data": {
      "text/plain": [
       "(array([2.8890e+03, 2.0907e+04, 6.0835e+04, 5.2171e+04, 2.6404e+04,\n",
       "        1.3121e+04, 6.3960e+03, 2.9530e+03, 1.3870e+03, 6.5700e+02,\n",
       "        3.3400e+02, 1.5500e+02, 6.8000e+01, 2.4000e+01, 2.3000e+01]),\n",
       " array([  0,  20,  40,  60,  80, 100, 120, 140, 160, 180, 200, 220, 240,\n",
       "        260, 280, 300]),\n",
       " <BarContainer object of 15 artists>)"
      ]
     },
     "execution_count": 12,
     "metadata": {},
     "output_type": "execute_result"
    },
    {
     "data": {
      "image/png": "[encoded data removed]",
      "text/plain": [
       "<Figure size 432x288 with 1 Axes>"
      ]
     },
     "metadata": {},
     "output_type": "display_data"
    }
   ],
   "source": [
    "orders = data['#Order']\n",
    "plt.style.use('fivethirtyeight')\n",
    "bins = [0,20,40,60,80,100,120,140,160,180,200,220,240,260,280,300]\n",
    "\n",
    "plt.hist(orders,bins = bins,edgecolor = 'black',log = True)"
   ]
  }
 ],
 "metadata": {
  "kernelspec": {
   "display_name": "Python 3",
   "language": "python",
   "name": "python3"
  },
  "language_info": {
   "codemirror_mode": {
    "name": "ipython",
    "version": 3
   },
   "file_extension": ".py",
   "mimetype": "text/x-python",
   "name": "python",
   "nbconvert_exporter": "python",
   "pygments_lexer": "ipython3",
   "version": "3.8.8"
  }
 },
 "nbformat": 4,
 "nbformat_minor": 5
}
